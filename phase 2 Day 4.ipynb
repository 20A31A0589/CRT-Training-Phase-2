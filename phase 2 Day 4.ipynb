{
 "cells": [
  {
   "cell_type": "code",
   "execution_count": 2,
   "id": "da51e7bd",
   "metadata": {},
   "outputs": [
    {
     "name": "stdout",
     "output_type": "stream",
     "text": [
      "Inorder\n",
      "5 7 9 10 11 \n",
      "preorder:\n",
      "10 7 5 9 11 \n",
      "postorder:\n",
      "5 9 7 11 10 10\n",
      "7\n",
      "11\n",
      "5\n",
      "9\n",
      "21\n",
      "11\n"
     ]
    }
   ],
   "source": [
    "class Node:\n",
    "    def __init__(self,value):\n",
    "        self.data=value\n",
    "        self.left=None\n",
    "        self.right=None\n",
    "class BStree:\n",
    "    def add_element(self,root,value):\n",
    "        new_node=Node(value)\n",
    "        if new_node.data<root.data:\n",
    "            if root.left!=None:\n",
    "                return self.add_element(root.left,value)  # compared to left value\n",
    "            else:\n",
    "                root.left=new_node\n",
    "                return\n",
    "            \n",
    "        else:\n",
    "            if root.right!=None:\n",
    "                return self.add_element(root.right,value)\n",
    "            else:\n",
    "                root.right=new_node\n",
    "                return\n",
    "    def inorder(self,root):\n",
    "        if(root.left!=None):\n",
    "            self.inorder(root.left)\n",
    "        print(root.data,end=\" \")\n",
    "        if(root.right!=None):\n",
    "            self.inorder(root.right)\n",
    "    def preorder(self,root):\n",
    "        print(root.data,end=\" \")\n",
    "        if(root.left!=None):\n",
    "            self.preorder(root.left)\n",
    "        if(root.right!=None):\n",
    "            self.preorder(root.right)\n",
    "    def postorder(self,root):\n",
    "        if(root.left!=None):\n",
    "            self.postorder(root.left)\n",
    "        if(root.right!=None):\n",
    "            self.postorder(root.right)\n",
    "        print(root.data,end=\" \")\n",
    "    def levelorder(self,root):\n",
    "        q=[]\n",
    "        q.append(root)\n",
    "        while(len(q)!=0):\n",
    "            ele=q.pop(0)\n",
    "            if ele.left:\n",
    "                q.append(ele.left)\n",
    "            if ele.right:\n",
    "                q.append(ele.right)\n",
    "            print(ele.data)\n",
    "    def sum(self, root):\n",
    "        sum=root.data\n",
    "        if root.left!=None:\n",
    "            sum+=self.sum(root.left)\n",
    "        if root.right!=None:\n",
    "            sum+=self.sum(root.right)\n",
    "        return sum\n",
    "    \n",
    "obj=BStree()\n",
    "root=Node(10)\n",
    "obj.add_element(root,7)\n",
    "obj.add_element(root,11)\n",
    "obj.add_element(root,5)\n",
    "obj.add_element(root,9)\n",
    "print(\"Inorder\")\n",
    "obj.inorder(root)\n",
    "print(\"\\npreorder:\")\n",
    "obj.preorder(root)\n",
    "print(\"\\npostorder:\")\n",
    "obj.postorder(root)\n",
    "obj.levelorder(root)\n",
    "print(obj.sum(root.left))\n",
    "print(obj.sum(root.right))"
   ]
  },
  {
   "cell_type": "code",
   "execution_count": 5,
   "id": "8cadda6a",
   "metadata": {},
   "outputs": [
    {
     "name": "stdout",
     "output_type": "stream",
     "text": [
      "[2, 17, 5, 13, 19, 23, 21, 4, 7]\n",
      "[2, 4, 5, 7, 13, 17, 19, 21, 23]\n"
     ]
    }
   ],
   "source": [
    "#Selection Sort take the smallest element and swap\n",
    "def selection(arr):\n",
    "    for i in range(len(arr)):\n",
    "        min_ind=i\n",
    "        for j in range(i+1, len(arr)):\n",
    "            if arr[min_ind]>arr[j]:\n",
    "                min_ind=j\n",
    "        arr[i], arr[min_ind]=arr[min_ind], arr[i]#swap(arr[i], rr[min_ind])\n",
    "    return arr\n",
    "     \n",
    "\n",
    "\n",
    "arr=[2,17,5,13,19,23,21,4,7]\n",
    "print(arr)\n",
    "print(selection(arr))"
   ]
  },
  {
   "cell_type": "code",
   "execution_count": 4,
   "id": "ca333892",
   "metadata": {},
   "outputs": [
    {
     "name": "stdout",
     "output_type": "stream",
     "text": [
      "[5, 7, 2, 23, 21, 1, 6, 45]\n",
      "[1, 2, 5, 6, 7, 21, 23, 45]\n"
     ]
    }
   ],
   "source": [
    "def insertion(arr):\n",
    "    \n",
    "    for i in range(1,len(arr)):\n",
    "        j=i    #temp=j\n",
    "        while arr[j-1]>arr[j] and j>0:\n",
    "            arr[j-1], arr[j]=arr[j],arr[j-1]\n",
    "            j-=1\n",
    "    return arr\n",
    "\n",
    "arr=[5,7,2,23,21,1,6,45]\n",
    "print(arr)\n",
    "print(insertion(arr))\n",
    "\n",
    "#output:[5, 7, 2, 23, 21, 1, 6, 45] [1, 2, 5, 6, 7, 21, 23, 45]"
   ]
  },
  {
   "cell_type": "code",
   "execution_count": 20,
   "id": "9b2643a2",
   "metadata": {},
   "outputs": [
    {
     "name": "stdout",
     "output_type": "stream",
     "text": [
      "[1, 4, 2, 67, 45]\n",
      "[1, 2, 4, 45, 67]\n"
     ]
    }
   ],
   "source": [
    "#merge sort follows the divide and conquer approach\n",
    "#time complexity is O(nlogn)\n",
    "def merge(arr,left,right,middle):\n",
    "    left_arr=arr[left:middle+1]\n",
    "    right_arr=arr[middle+1:right+1]\n",
    "    left_ind=0\n",
    "    right_ind=0\n",
    "    ind=left\n",
    "    while(left_ind<len(left_arr) and right_ind<len(right_arr)):\n",
    "        if(left_arr[left_ind]<right_arr[right_ind]):\n",
    "            arr[ind]=left_arr[left_ind]\n",
    "            left_ind+=1\n",
    "        else:\n",
    "            arr[ind]=right_arr[right_ind]\n",
    "            right_ind+=1\n",
    "        ind+=1\n",
    "    while(left_ind<len(left_arr)):\n",
    "        arr[ind]=left_arr[left_ind]\n",
    "        left_ind+=1\n",
    "        ind+=1\n",
    "    while(right_ind<len(right_arr)):\n",
    "        arr[ind]=right_arr[right_ind]\n",
    "        right_ind+=1\n",
    "        ind+=1\n",
    "def merge_sort(arr,left,right):\n",
    "    if left>=right:\n",
    "        return \n",
    "    else:\n",
    "        mid=(left+right)//2\n",
    "        merge_sort(arr,left,mid)\n",
    "        merge_sort(arr,mid+1,right)\n",
    "        merge(arr,left,right,mid)\n",
    "        return\n",
    "        \n",
    "arr=[1,4,2,67,45]\n",
    "print(arr)\n",
    "x=merge_sort(arr,0,len(arr)-1)\n",
    "print(arr)\n"
   ]
  },
  {
   "cell_type": "code",
   "execution_count": 15,
   "id": "6e2bae98",
   "metadata": {},
   "outputs": [
    {
     "name": "stdout",
     "output_type": "stream",
     "text": [
      "[30, 20, 50, 40, 10, 20]\n",
      "[10, 20, 20, 30, 40, 50]\n"
     ]
    }
   ],
   "source": [
    "#quick sort\n",
    "def quick_sort(arr):\n",
    "    if len(arr)<=1:\n",
    "        return arr\n",
    "    pivot=arr[0]\n",
    "    left_arr=[i for i in arr[1:] if i<=pivot]\n",
    "    right_arr=[i for i in arr[1:] if i>pivot]\n",
    "    #print(left_arr)\n",
    "    #print(right_arr)\n",
    "    return quick_sort(left_arr)+[pivot]+quick_sort(right_arr)\n",
    "arr=[30,20,50,40,10,20]\n",
    "print(arr)\n",
    "print(quick_sort(arr))"
   ]
  },
  {
   "cell_type": "code",
   "execution_count": null,
   "id": "b19e1e0e",
   "metadata": {},
   "outputs": [],
   "source": []
  }
 ],
 "metadata": {
  "kernelspec": {
   "display_name": "Python 3 (ipykernel)",
   "language": "python",
   "name": "python3"
  },
  "language_info": {
   "codemirror_mode": {
    "name": "ipython",
    "version": 3
   },
   "file_extension": ".py",
   "mimetype": "text/x-python",
   "name": "python",
   "nbconvert_exporter": "python",
   "pygments_lexer": "ipython3",
   "version": "3.9.7"
  }
 },
 "nbformat": 4,
 "nbformat_minor": 5
}
