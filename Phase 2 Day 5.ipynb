{
 "cells": [
  {
   "cell_type": "code",
   "execution_count": 1,
   "id": "08da1a99",
   "metadata": {},
   "outputs": [
    {
     "name": "stdout",
     "output_type": "stream",
     "text": [
      "[30, 20, 50, 40, 10, 20]\n",
      "[10, 20, 20, 30, 40, 50]\n"
     ]
    }
   ],
   "source": [
    "#quick sort\n",
    "def quick_sort(arr):\n",
    "    if len(arr)<=1:\n",
    "        return arr\n",
    "    pivot=arr[0]\n",
    "    left_arr=[i for i in arr[1:] if i<=pivot]\n",
    "    right_arr=[i for i in arr[1:] if i>pivot]\n",
    "    #print(left_arr)\n",
    "    #print(right_arr)\n",
    "    return quick_sort(left_arr)+[pivot]+quick_sort(right_arr)\n",
    "arr=[30,20,50,40,10,20]\n",
    "print(arr)\n",
    "print(quick_sort(arr))"
   ]
  },
  {
   "cell_type": "code",
   "execution_count": 2,
   "id": "fb13b0ed",
   "metadata": {},
   "outputs": [
    {
     "name": "stdout",
     "output_type": "stream",
     "text": [
      "e\n",
      "d\n",
      "d\n",
      "e\n",
      "c\n",
      "b\n",
      "c\n",
      "a\n",
      "d\n",
      "b\n",
      "a\n",
      "d\n",
      "a\n",
      "b\n",
      "c\n",
      "e->d->c->b->a\n"
     ]
    }
   ],
   "source": [
    "#BFS algorithm in graphs\n",
    "def BFS(graph,start):\n",
    "    q=[start]\n",
    "    visited=[start]\n",
    "    while(len(q)!=0):\n",
    "        ele=q.pop(0)\n",
    "        #print(ele)\n",
    "        for i in graph[ele]:\n",
    "            if i not in visited:  # check for non visited nodes\n",
    "                q.append(i)\n",
    "                visited.append(i)\n",
    "    print(*visited,sep=\"->\")\n",
    "    \n",
    "graph_elements={\n",
    "    \"a\":[\"b\",\"c\"],\n",
    "    \"b\":[\"a\",\"d\"],\n",
    "    \"c\":[\"a\",\"d\"],\n",
    "    \"d\":[\"e\",\"c\",\"b\"],\n",
    "    \"e\":[\"d\"]   \n",
    "}\n",
    "obj=BFS(graph_elements,\"e\")"
   ]
  },
  {
   "cell_type": "code",
   "execution_count": 22,
   "id": "a4030e59",
   "metadata": {},
   "outputs": [
    {
     "name": "stdout",
     "output_type": "stream",
     "text": [
      "5\n",
      "a b\n",
      "a c\n",
      "b d\n",
      "d a\n",
      "c a\n",
      "a e\n",
      "{'a': 'c', 'b': 'd', 'd': 'a', 'c': 'a'}\n",
      "['c', 'a']\n"
     ]
    }
   ],
   "source": [
    "def BFS(graph,start):\n",
    "    q=[start]\n",
    "    visited=[start]\n",
    "    while(len(q)!=0):\n",
    "        ele=q.pop(0)\n",
    "        #print(ele)\n",
    "        for i in graph[ele]:\n",
    "            if i not in visited:  # check for non visited nodes\n",
    "                q.append(i)\n",
    "                visited.append(i)\n",
    "    print(visited)\n",
    "n=int(input())\n",
    "d={}\n",
    "for i in range(n):\n",
    "    c=input().split()\n",
    "    d[c[0]]=c[1]\n",
    "m=input().split()\n",
    "print(d)\n",
    "obj=BFS(d,m[0])\n"
   ]
  },
  {
   "cell_type": "code",
   "execution_count": null,
   "id": "115dd800",
   "metadata": {},
   "outputs": [],
   "source": [
    "if visited[0]==m[0] and visited[1]==m[1]:\n",
    "        print(*visited,sep=\",\")\n",
    "    else:\n",
    "        print(\"Invalid input\")"
   ]
  }
 ],
 "metadata": {
  "kernelspec": {
   "display_name": "Python 3 (ipykernel)",
   "language": "python",
   "name": "python3"
  },
  "language_info": {
   "codemirror_mode": {
    "name": "ipython",
    "version": 3
   },
   "file_extension": ".py",
   "mimetype": "text/x-python",
   "name": "python",
   "nbconvert_exporter": "python",
   "pygments_lexer": "ipython3",
   "version": "3.9.7"
  }
 },
 "nbformat": 4,
 "nbformat_minor": 5
}
