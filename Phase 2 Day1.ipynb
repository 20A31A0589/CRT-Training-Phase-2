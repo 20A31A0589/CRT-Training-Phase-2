{
 "cells": [
  {
   "cell_type": "code",
   "execution_count": null,
   "id": "ec6265f3",
   "metadata": {},
   "outputs": [],
   "source": [
    "#Data Structures\n",
    "#Stack (LIFO) OR FILO\n",
    "#append and pop is also used\n",
    "#If stack is full but we try to append its condition is stack is full overflow\n",
    "# If no elements is presented but we try to remove this condition is underflow \n",
    "#self keyword is used for define that class or not"
   ]
  },
  {
   "cell_type": "code",
   "execution_count": 24,
   "id": "fe49d09b",
   "metadata": {},
   "outputs": [
    {
     "name": "stdout",
     "output_type": "stream",
     "text": [
      "[10, 20, 30, 40, 50]\n",
      "50\n"
     ]
    }
   ],
   "source": [
    "#print the stack\n",
    "#Stack is a linear data structure stack is single ended data structure where insertion and delection\n",
    "#  can be done in same end \n",
    "class stack:\n",
    "    arr=[]\n",
    "    size=5\n",
    "    def stack_push(self,element):\n",
    "        if len(self.arr)==self.size :\n",
    "            print(\"over flow :stack is full\")\n",
    "        else:\n",
    "            self.arr.append(element)\n",
    "    def stack_pop(self):\n",
    "        if len(self.arr)==0:\n",
    "            print(\"underflow: stack is empty\")\n",
    "        else:\n",
    "            self.arr.pop() \n",
    "    def stack_peek(self):\n",
    "        if len(self.arr)==0:\n",
    "            return \"stack is empty\"\n",
    "        return self.arr[-1]\n",
    "    def isEmpty(self):\n",
    "        if len(self.arr)==0:\n",
    "            return True\n",
    "        else:\n",
    "            return False\n",
    "s=stack()\n",
    "s.stack_push(10)\n",
    "s.stack_push(20)\n",
    "s.stack_push(30)\n",
    "s.stack_push(4\n",
    "s.stack_push(50)\n",
    "print(s.arr)\n",
    "print(s.stack_peek())"
   ]
  },
  {
   "cell_type": "code",
   "execution_count": 22,
   "id": "052c2e29",
   "metadata": {},
   "outputs": [
    {
     "name": "stdout",
     "output_type": "stream",
     "text": [
      "[10, 20, 30, 40, 50]\n",
      "[50, 40, 30, 20, 10]\n"
     ]
    }
   ],
   "source": [
    "#Print the reverse of stack\n",
    "class stack:\n",
    "    arr=[]\n",
    "    size=5\n",
    "    arr1=[]\n",
    "    def stack_push(self,element):\n",
    "        if len(self.arr)==self.size :\n",
    "            print(\"over flow :stack is full\")\n",
    "        else:\n",
    "            self.arr.append(element)\n",
    "    def stack_pop(self):\n",
    "        if len(self.arr)==0:\n",
    "            print(\"underflow: stack is empty\")\n",
    "        else:\n",
    "            self.arr1.append(self.arr.pop())     \n",
    "    def stack_peek(self):\n",
    "        if len(self.arr)==0:\n",
    "            return \"stack is empty\"\n",
    "        return self.arr[-1]\n",
    "    def isEmpty(self):\n",
    "        if len(self.arr)==0:\n",
    "            return True\n",
    "        else:\n",
    "            return False\n",
    "s=stack()\n",
    "#print(s.arr)\n",
    "s.stack_push(10)\n",
    "s.stack_push(20)\n",
    "s.stack_push(30)\n",
    "s.stack_push(40)\n",
    "s.stack_push(50)\n",
    "print(s.arr)\n",
    "s.stack_pop()\n",
    "s.stack_pop()\n",
    "s.stack_pop()\n",
    "s.stack_pop()\n",
    "s.stack_pop()\n",
    "print(s.arr1)"
   ]
  },
  {
   "cell_type": "code",
   "execution_count": null,
   "id": "00307744",
   "metadata": {},
   "outputs": [],
   "source": [
    "#Queue is double ended data structure where insertion and delection\n",
    "#can be done in two ends Deletion can be done front ends and insertion can be done rear end \n",
    "#10 | 20 | 30|40|50 FIFO First Inserted element removes First\n",
    "class queue:\n",
    "    arr=[]\n",
    "    size=5\n",
    "    def Enqueue(self,element):\n",
    "        if len(self.arr)==self.size :\n",
    "            print(\"over flow :queue is full\")\n",
    "        else:\n",
    "            self.arr.append(element)\n",
    "    def Dequeue(self):\n",
    "        if len(self.arr)==0:\n",
    "            print(\"underflow: queue is empty\")\n",
    "        else:\n",
    "            self.arr.pop(0)\n",
    "    def queue_peek(self):\n",
    "        if len(self.arr)==0:\n",
    "            return \"queue is empty\"\n",
    "        return self.arr[-1]\n",
    "    def isEmpty(self):\n",
    "        if len(self.arr)==0:\n",
    "            return True\n",
    "        else:\n",
    "            return False\n",
    "s=queue()\n",
    "s.Enqueue(10)\n",
    "s.Enqueue(20)\n",
    "s.Enqueue(30)\n",
    "s.Enqueue(40)\n",
    "s.Enqueue(50)\n",
    "print(s.arr)\n",
    "s.Dequeue()\n",
    "s.Dequeue()\n",
    "print(s.arr)\n",
    "print(s.queue_peek())"
   ]
  },
  {
   "cell_type": "code",
   "execution_count": 21,
   "id": "42c68e02",
   "metadata": {},
   "outputs": [
    {
     "name": "stdout",
     "output_type": "stream",
     "text": [
      "[10, 20, 30, 40, 50]\n",
      "[10]\n",
      "[None]\n"
     ]
    }
   ],
   "source": [
    "class Stack:\n",
    "    arr=[]\n",
    "    size=5\n",
    "    def stack_push(self, element): #push will add a element to a array\n",
    "        if len(self.arr)==self.size:\n",
    "            print(\"stack is full\")\n",
    "        else:\n",
    "            self.arr.append(element)\n",
    "    def stack_pop(self):\n",
    "        if len(self.arr)==0:\n",
    "            print(\"underflow: stack empty\")\n",
    "        else:\n",
    "            self.arr.pop()\n",
    "    def Stack_peek(self):\n",
    "        if len(self.arr)==0:\n",
    "            return \"stack is empty\"\n",
    "        return self.arr[-1]\n",
    "    def isEmpty(self):#it returns true or false, to check it \n",
    "        if len(self.arr)==0:\n",
    "            return True\n",
    "        else:\n",
    "            return False\n",
    "    def printStack(self):\n",
    "        print(self.arr)\n",
    "s1=Stack()\n",
    "s1.stack_push(10)\n",
    "s1.stack_push(20)\n",
    "s1.stack_push(30)\n",
    "s1.stack_push(40)\n",
    "s1.stack_push(50)\n",
    "s1.printStack()\n",
    "s2.stack_push(s1.stack_pop())\n",
    "s2.stack_push(s1.stack_pop())\n",
    "s2.stack_push(s1.stack_pop())\n",
    "s2.stack_push(s1.stack_pop())\n",
    "s2.stack_push(s1.stack_pop())\n",
    "s2.printStack()"
   ]
  },
  {
   "cell_type": "code",
   "execution_count": null,
   "id": "7f595f41",
   "metadata": {},
   "outputs": [],
   "source": [
    "# Linear Search\n",
    "l=list(map(int,input().split()))\n",
    "n=int(input())\n",
    "c=0\n",
    "if(l.count(n)==0):\n",
    "    print(\"element is not found\")\n",
    "else:\n",
    "    for i in range(len(l)):\n",
    "        if(n==l[i]):\n",
    "            print(i,end=\"\\n\")\n",
    "            print(\"element found\")"
   ]
  },
  {
   "cell_type": "code",
   "execution_count": 10,
   "id": "4df6f981",
   "metadata": {},
   "outputs": [
    {
     "name": "stdout",
     "output_type": "stream",
     "text": [
      "1 2 3 4 5\n",
      "4\n",
      "element is found at 3\n",
      "[1, 2, 3, 4, 5]\n"
     ]
    }
   ],
   "source": [
    "#Binary Search\n",
    "l=list(map(int,input().split()))\n",
    "key=int(input())\n",
    "low=0\n",
    "c=0\n",
    "l1=[]\n",
    "high=len(l)-1\n",
    "#while(low<=high):\n",
    "for i in range(len(l)):\n",
    "    mid=(low+high)//2\n",
    "    if(l[mid]<key):\n",
    "        low=mid+1\n",
    "    elif(l[mid]>key):\n",
    "        high=mid-1\n",
    "    else:\n",
    "        l1.append(mid)\n",
    "        print(\"element is found at\",mid)\n",
    "        c=1\n",
    "        break\n",
    "print(l)\n",
    "if(c!=1):\n",
    "    print(key,\"not found\")"
   ]
  },
  {
   "cell_type": "code",
   "execution_count": 4,
   "id": "4941ff07",
   "metadata": {},
   "outputs": [
    {
     "name": "stdout",
     "output_type": "stream",
     "text": [
      "1 2 3 4 5\n",
      "3\n",
      "element is found at 2\n"
     ]
    }
   ],
   "source": [
    "#Recursive Binary Search\n",
    "def binary_search(l,low,high,key):\n",
    "    while(low<=high):\n",
    "        mid=(low+high)//2\n",
    "        if(l[mid]<key):\n",
    "            low=mid+1\n",
    "        elif(l[mid]>key):\n",
    "            high=mid-1\n",
    "            \n",
    "        else:\n",
    "            print(\"element is found at\",mid)\n",
    "            c=1\n",
    "            return \n",
    "    print(\"element is not found\")\n",
    "    return\n",
    "arr=list(map(int,input().split()))\n",
    "low=0\n",
    "high=len(arr)-1\n",
    "key=int(input())\n",
    "res=binary_search(arr,low,high,key)"
   ]
  },
  {
   "cell_type": "code",
   "execution_count": 6,
   "id": "5324f6c9",
   "metadata": {},
   "outputs": [
    {
     "name": "stdout",
     "output_type": "stream",
     "text": [
      "1\n",
      "2\n"
     ]
    }
   ],
   "source": [
    "def liner(arr,n):\n",
    "    l=[]\n",
    "    if(arr.count(n)>=1):\n",
    "        for i in range(len(arr)):\n",
    "            if(i!=len(arr)-1):\n",
    "                if(arr[i]==n):\n",
    "                    print(i,sep=',')\n",
    "    else:\n",
    "        return -1\n",
    "arr=[1,3,3,5,2,4]\n",
    "n=3\n",
    "res=liner(arr,n)"
   ]
  },
  {
   "cell_type": "code",
   "execution_count": null,
   "id": "95c51389",
   "metadata": {},
   "outputs": [
    {
     "name": "stdout",
     "output_type": "stream",
     "text": [
      "1 2 3 4\n",
      "5\n"
     ]
    }
   ],
   "source": [
    "def binary_search(l,low,high,key):\n",
    "    mid=(low+high)//2\n",
    "    if(l[mid]<key):\n",
    "        low=mid+1\n",
    "        return binary_search(arr,low,high,key)\n",
    "    elif(l[mid]>key):\n",
    "        high=mid-1\n",
    "        return binary_search(arr,low,high,key)\n",
    "    else:\n",
    "        print(\"element is found at\",mid)\n",
    "        c=1\n",
    "        return \n",
    "    print(\"element is not found\")\n",
    "    return\n",
    "arr=list(map(int,input().split()))\n",
    "low=0\n",
    "high=len(arr)-1\n",
    "key=int(input())\n",
    "res=binary_search(arr,low,high,key)"
   ]
  },
  {
   "cell_type": "code",
   "execution_count": 21,
   "id": "42f81591",
   "metadata": {},
   "outputs": [
    {
     "name": "stdout",
     "output_type": "stream",
     "text": [
      "1p2q3r\n"
     ]
    }
   ],
   "source": [
    "st=\"123\"\n",
    "st1=\"pqr\"\n",
    "st2=\"\"\n",
    "v=min(len(st),len(st1))\n",
    "if(len(st)<=len(st1)):\n",
    "    st4=st1[len(st):]\n",
    "    #print(st4)\n",
    "else:\n",
    "    st4=st[len(st1):]\n",
    "    #print(st4)\n",
    "for i in range(v):\n",
    "    st2+=st[i]\n",
    "    st2+=st1[i]\n",
    "print(st2+st4)"
   ]
  },
  {
   "cell_type": "code",
   "execution_count": null,
   "id": "a80baa0f",
   "metadata": {},
   "outputs": [],
   "source": [
    "class Stack:\n",
    "    arr=[]\n",
    "    size=5\n",
    "    def stack_push(self, element): #push will add a element to a array\n",
    "        if len(self.arr)==self.size:\n",
    "            print(\"stack is full\")\n",
    "        else:\n",
    "            self.arr.append(element)\n",
    "    def stack_pop(self):\n",
    "        if len(self.arr)==0:\n",
    "            print(\"underflow: stack empty\")\n",
    "        else:\n",
    "            self.arr.pop()\n",
    "    def Stack_peek(self):\n",
    "        if len(self.arr)==0:\n",
    "            return \"stack is empty\"\n",
    "        return self.arr[-1]\n",
    "    def isEmpty(self):#it returns true or false, to check it \n",
    "        if len(self.arr)==0:\n",
    "            return True\n",
    "        else:\n",
    "            return False\n",
    "    def printStack(self):\n",
    "        print(self.arr)\n",
    "s1=Stack()\n",
    "s1.stack_push(10)\n",
    "s1.stack_push(20)\n",
    "s1.stack_push(30)\n",
    "s1.stack_push(40)\n",
    "s1.stack_push(50)\n",
    "s1.printStack()\n",
    "s2=Stack()\n",
    "s2.stack_push(s1.stack_pop())\n",
    "s2.stack_push(s1.stack_pop())\n",
    "s2.stack_push(s1.stack_pop())\n",
    "s2.stack_push(s1.stack_pop())\n",
    "s2.stack_push(s1.stack_pop())\n",
    "s2.stack_push(s1.stack_pop())\n",
    "s2.printStack()"
   ]
  },
  {
   "cell_type": "code",
   "execution_count": 2,
   "id": "6116c0bf",
   "metadata": {},
   "outputs": [
    {
     "name": "stdout",
     "output_type": "stream",
     "text": [
      "1 2 3 4 4\n"
     ]
    },
    {
     "ename": "ValueError",
     "evalue": "invalid literal for int() with base 10: '1 2 3 4 4'",
     "output_type": "error",
     "traceback": [
      "\u001b[1;31m---------------------------------------------------------------------------\u001b[0m",
      "\u001b[1;31mValueError\u001b[0m                                Traceback (most recent call last)",
      "\u001b[1;32m~\\AppData\\Local\\Temp/ipykernel_27300/2861004574.py\u001b[0m in \u001b[0;36m<module>\u001b[1;34m\u001b[0m\n\u001b[0;32m     10\u001b[0m             \u001b[1;32mreturn\u001b[0m \u001b[0mmid\u001b[0m\u001b[1;33m\u001b[0m\u001b[1;33m\u001b[0m\u001b[0m\n\u001b[0;32m     11\u001b[0m     \u001b[1;32mreturn\u001b[0m \u001b[1;33m-\u001b[0m\u001b[1;36m1\u001b[0m\u001b[1;33m\u001b[0m\u001b[1;33m\u001b[0m\u001b[0m\n\u001b[1;32m---> 12\u001b[1;33m \u001b[0ml\u001b[0m\u001b[1;33m=\u001b[0m\u001b[0mlist\u001b[0m\u001b[1;33m(\u001b[0m\u001b[0mmap\u001b[0m\u001b[1;33m(\u001b[0m\u001b[0mint\u001b[0m\u001b[1;33m,\u001b[0m\u001b[0minput\u001b[0m\u001b[1;33m(\u001b[0m\u001b[1;33m)\u001b[0m\u001b[1;33m.\u001b[0m\u001b[0msplit\u001b[0m\u001b[1;33m(\u001b[0m\u001b[1;34m\",\"\u001b[0m\u001b[1;33m)\u001b[0m\u001b[1;33m)\u001b[0m\u001b[1;33m)\u001b[0m\u001b[1;33m\u001b[0m\u001b[1;33m\u001b[0m\u001b[0m\n\u001b[0m\u001b[0;32m     13\u001b[0m \u001b[0mkey\u001b[0m\u001b[1;33m=\u001b[0m\u001b[0mint\u001b[0m\u001b[1;33m(\u001b[0m\u001b[0minput\u001b[0m\u001b[1;33m(\u001b[0m\u001b[1;33m)\u001b[0m\u001b[1;33m)\u001b[0m\u001b[1;33m\u001b[0m\u001b[1;33m\u001b[0m\u001b[0m\n\u001b[0;32m     14\u001b[0m \u001b[1;32mfor\u001b[0m \u001b[0mi\u001b[0m \u001b[1;32min\u001b[0m \u001b[0mrange\u001b[0m\u001b[1;33m(\u001b[0m\u001b[0ml\u001b[0m\u001b[1;33m.\u001b[0m\u001b[0mcount\u001b[0m\u001b[1;33m(\u001b[0m\u001b[0mkey\u001b[0m\u001b[1;33m)\u001b[0m\u001b[1;33m)\u001b[0m\u001b[1;33m:\u001b[0m\u001b[1;33m\u001b[0m\u001b[1;33m\u001b[0m\u001b[0m\n",
      "\u001b[1;31mValueError\u001b[0m: invalid literal for int() with base 10: '1 2 3 4 4'"
     ]
    }
   ],
   "source": [
    "#Binary Search\n",
    "def binary_search(l,low,high,key):\n",
    "    while(low<=high):\n",
    "        mid=(low+high)//2\n",
    "        if(l[mid]<key):\n",
    "            low=mid+1\n",
    "        elif(l[mid]>key):\n",
    "            high=mid-1  \n",
    "        else:\n",
    "            return mid\n",
    "    return -1\n",
    "l=list(map(int,input().split(\",\")))\n",
    "key=int(input())\n",
    "for i in range(l.count(key)):\n",
    "    ind=binary_search(l,0,len(l)-1,key)\n",
    "    if ind>=0:\n",
    "        print(\"element found at\",ind)\n",
    "        l[ind]=-1"
   ]
  },
  {
   "cell_type": "code",
   "execution_count": null,
   "id": "b474160d",
   "metadata": {},
   "outputs": [],
   "source": []
  }
 ],
 "metadata": {
  "kernelspec": {
   "display_name": "Python 3 (ipykernel)",
   "language": "python",
   "name": "python3"
  },
  "language_info": {
   "codemirror_mode": {
    "name": "ipython",
    "version": 3
   },
   "file_extension": ".py",
   "mimetype": "text/x-python",
   "name": "python",
   "nbconvert_exporter": "python",
   "pygments_lexer": "ipython3",
   "version": "3.9.7"
  }
 },
 "nbformat": 4,
 "nbformat_minor": 5
}
